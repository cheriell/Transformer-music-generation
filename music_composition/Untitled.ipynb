{
 "cells": [
  {
   "cell_type": "markdown",
   "id": "particular-geography",
   "metadata": {},
   "source": [
    "# test NoteSequence representation"
   ]
  },
  {
   "cell_type": "code",
   "execution_count": 16,
   "id": "jewish-signature",
   "metadata": {},
   "outputs": [
    {
     "name": "stdout",
     "output_type": "stream",
     "text": [
      "[306, 188, 60, 306, 188, 67, 306, 195, 67, 306, 195, 69, 306, 197, 69, 306, 197, 67, 356, 195, 65, 306, 193, 65, 306, 193, 64, 306, 192, 64, 306, 192, 62, 306, 190, 62, 306, 190, 60, 356, 188]\n",
      "42\n",
      "41\n",
      "['(60, ON)', '(50, SHIFT)', '(60, OFF)', '(60, ON)', '(50, SHIFT)', '(60, OFF)', '(67, ON)', '(50, SHIFT)', '(67, OFF)', '(67, ON)', '(50, SHIFT)', '(67, OFF)', '(69, ON)', '(50, SHIFT)', '(69, OFF)', '(69, ON)', '(50, SHIFT)', '(69, OFF)', '(67, ON)', '(100, SHIFT)', '(67, OFF)', '(65, ON)', '(50, SHIFT)', '(65, OFF)', '(65, ON)', '(50, SHIFT)', '(65, OFF)', '(64, ON)', '(50, SHIFT)', '(64, OFF)', '(64, ON)', '(50, SHIFT)', '(64, OFF)', '(62, ON)', '(50, SHIFT)', '(62, OFF)', '(62, ON)', '(50, SHIFT)', '(62, OFF)', '(60, ON)', '(100, SHIFT)', '(60, OFF)']\n",
      "[PerformanceEvent(event_type=1, event_value=60), PerformanceEvent(event_type=3, event_value=50), PerformanceEvent(event_type=2, event_value=60), PerformanceEvent(event_type=1, event_value=60), PerformanceEvent(event_type=3, event_value=50), PerformanceEvent(event_type=2, event_value=60), PerformanceEvent(event_type=1, event_value=67), PerformanceEvent(event_type=3, event_value=50), PerformanceEvent(event_type=2, event_value=67), PerformanceEvent(event_type=1, event_value=67)]\n"
     ]
    }
   ],
   "source": [
    "from note_seq.protobuf import music_pb2\n",
    "import note_seq\n",
    "\n",
    "twinkle_twinkle = music_pb2.NoteSequence()\n",
    "\n",
    "# Add the notes to the sequence.\n",
    "twinkle_twinkle.notes.add(pitch=60, start_time=0.0, end_time=0.5, velocity=80)\n",
    "twinkle_twinkle.notes.add(pitch=60, start_time=0.5, end_time=1.0, velocity=80)\n",
    "twinkle_twinkle.notes.add(pitch=67, start_time=1.0, end_time=1.5, velocity=80)\n",
    "twinkle_twinkle.notes.add(pitch=67, start_time=1.5, end_time=2.0, velocity=80)\n",
    "twinkle_twinkle.notes.add(pitch=69, start_time=2.0, end_time=2.5, velocity=80)\n",
    "twinkle_twinkle.notes.add(pitch=69, start_time=2.5, end_time=3.0, velocity=80)\n",
    "twinkle_twinkle.notes.add(pitch=67, start_time=3.0, end_time=4.0, velocity=80)\n",
    "twinkle_twinkle.notes.add(pitch=65, start_time=4.0, end_time=4.5, velocity=80)\n",
    "twinkle_twinkle.notes.add(pitch=65, start_time=4.5, end_time=5.0, velocity=80)\n",
    "twinkle_twinkle.notes.add(pitch=64, start_time=5.0, end_time=5.5, velocity=80)\n",
    "twinkle_twinkle.notes.add(pitch=64, start_time=5.5, end_time=6.0, velocity=80)\n",
    "twinkle_twinkle.notes.add(pitch=62, start_time=6.0, end_time=6.5, velocity=80)\n",
    "twinkle_twinkle.notes.add(pitch=62, start_time=6.5, end_time=7.0, velocity=80)\n",
    "twinkle_twinkle.notes.add(pitch=60, start_time=7.0, end_time=8.0, velocity=80) \n",
    "# twinkle_twinkle.total_time = 8\n",
    "\n",
    "twinkle_twinkle.tempos.add(qpm=60)\n",
    "note_sequence = twinkle_twinkle\n",
    "\n",
    "# This creates a file called `drums_sample_output.mid`, containing the drums solo we've been using.\n",
    "# note_seq.sequence_proto_to_midi_file(twinkle_twinkle, 'sample_output.mid')\n",
    "\n",
    "# create NoteSequence from midi file\n",
    "# note_sequence = note_seq.midi_io.midi_file_to_note_sequence('sample_output.mid')\n",
    "# note_seq.plot_sequence(note_sequence)\n",
    "\n",
    "\n",
    "# primer_sequence = note_seq.trim_note_sequence(input_sequence, input_section.start_time,input_section.end_time)\n",
    "# input_start_step = note_seq.quantize_to_step(0.0, 100, quantize_cutoff=0.0)\n",
    "# quantize by 10ms\n",
    "quantized_note_sequence = note_seq.sequences_lib.quantize_note_sequence_absolute(note_sequence, 100)\n",
    "# note_seq.plot_sequence(note_sequence)\n",
    "def get_methods(object, spacing=20):\n",
    "    methodList = []\n",
    "    for method_name in dir(object):\n",
    "        try:\n",
    "            if callable(getattr(object, method_name)):\n",
    "                methodList.append(str(method_name))\n",
    "        except:\n",
    "            methodList.append(str(method_name))\n",
    "        processFunc = (lambda s: ' '.join(s.split())) or (lambda s: s)\n",
    "    for method in methodList:\n",
    "        try:\n",
    "            print(str(method.ljust(spacing)) + ' ' +\n",
    "            processFunc(str(getattr(object, method).__doc__)[0:90]))\n",
    "        except:\n",
    "            print(method.ljust(spacing) + ' ' + ' getattr() failed')\n",
    "string = quantized_note_sequence.SerializeToString()\n",
    "new_note_sequence = music_pb2.NoteSequence().FromString(string)\n",
    "\n",
    "performance = note_seq.performance_lib.Performance(quantized_note_sequence)\n",
    "events = note_seq.events_lib.SimpleEventSequence(0, performance)\n",
    "\n",
    "class OneHotEncodingNoteSequence(note_seq.encoder_decoder.OneHotEncoding):\n",
    "    @property\n",
    "    def num_classes(self):\n",
    "        return 128 * 2 + 100 * 4\n",
    "    def default_event(self):\n",
    "        return 0\n",
    "    def encode_event(self, event):\n",
    "        return (event.event_type-1) * 128 + event.event_value\n",
    "    def decode_event(self, index):\n",
    "        return None\n",
    "\n",
    "encoder_decoder = note_seq.encoder_decoder.OneHotEventSequenceEncoderDecoder(OneHotEncodingNoteSequence())\n",
    "onehot = encoder_decoder.encode(performance)\n",
    "print(onehot[1])\n",
    "print(len(events))\n",
    "print(len(onehot[0]))\n",
    "print(str(performance).split('\\n'))\n",
    "print(performance[:10])"
   ]
  },
  {
   "cell_type": "code",
   "execution_count": null,
   "id": "minor-roller",
   "metadata": {},
   "outputs": [],
   "source": []
  }
 ],
 "metadata": {
  "kernelspec": {
   "display_name": "Python 3",
   "language": "python",
   "name": "python3"
  },
  "language_info": {
   "codemirror_mode": {
    "name": "ipython",
    "version": 3
   },
   "file_extension": ".py",
   "mimetype": "text/x-python",
   "name": "python",
   "nbconvert_exporter": "python",
   "pygments_lexer": "ipython3",
   "version": "3.8.2"
  }
 },
 "nbformat": 4,
 "nbformat_minor": 5
}
